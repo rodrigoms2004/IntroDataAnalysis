{
 "cells": [
  {
   "cell_type": "code",
   "execution_count": 9,
   "metadata": {},
   "outputs": [
    {
     "data": {
      "text/plain": [
       "OrderedDict([('account_key', '448'),\n",
       "             ('status', 'canceled'),\n",
       "             ('join_date', '2014-11-10'),\n",
       "             ('cancel_date', '2015-01-14'),\n",
       "             ('days_to_cancel', '65'),\n",
       "             ('is_udacity', 'True'),\n",
       "             ('is_canceled', 'True')])"
      ]
     },
     "execution_count": 9,
     "metadata": {},
     "output_type": "execute_result"
    }
   ],
   "source": [
    "import unicodecsv\n",
    "\n",
    "enrollments = []\n",
    "with open ('./DataFiles/enrollments.csv', 'rb') as f:\n",
    "    reader = unicodecsv.DictReader(f)\n",
    "    enrollments = list(reader)\n",
    "    \n",
    "for row in reader:\n",
    "    enrollments.append(row)\n",
    "\n",
    "enrollments[0]\n"
   ]
  },
  {
   "cell_type": "code",
   "execution_count": 1,
   "metadata": {},
   "outputs": [],
   "source": [
    "import unicodecsv\n",
    "\n",
    "enrollments_filename = './DataFiles/enrollments.csv'\n",
    "\n",
    "## Longer version of code (replaced with shorter, equivalent version below)\n",
    "\n",
    "# enrollments = []\n",
    "# f = open(enrollments_filename, 'rb')\n",
    "# reader = unicodecsv.DictReader(f)\n",
    "# for row in reader:\n",
    "#     enrollments.append(row)\n",
    "# f.close()\n",
    "\n",
    "with open(enrollments_filename, 'rb') as f:\n",
    "    reader = unicodecsv.DictReader(f)\n",
    "    enrollments = list(reader)\n",
    "    \n",
    "### Write code similar to the above to load the engagement\n",
    "### and submission data. The data is stored in files with\n",
    "### the given filenames. Then print the first row of each\n",
    "### table to make sure that your code works. You can use the\n",
    "### \"Test Run\" button to see the output of your code.\n",
    "\n",
    "engagement_filename = './DataFiles/daily_engagement.csv'\n",
    "submissions_filename = './DataFiles/project_submissions.csv'\n",
    "    \n",
    "daily_engagement = []     # Replace this with your code\n",
    "project_submissions = []  # Replace this with your code\n",
    "\n",
    "f = open(engagement_filename, 'rb') \n",
    "reader = unicodecsv.DictReader(f)\n",
    "for row in reader:\n",
    "    daily_engagement.append(row)\n",
    "f.close()\n",
    "\n",
    "daily_engagement[0]\n",
    "\n",
    "f = open(submissions_filename, 'rb')\n",
    "reader = unicodecsv.DictReader(f)\n",
    "for row in reader:\n",
    "    project_submissions.append(row)\n",
    "f.close()\n",
    "\n",
    "project_submissions[0]\n"
   ]
  },
  {
   "cell_type": "code",
   "execution_count": null,
   "metadata": {},
   "outputs": [],
   "source": []
  }
 ],
 "metadata": {
  "kernelspec": {
   "display_name": "Python 3",
   "language": "python",
   "name": "python3"
  },
  "language_info": {
   "codemirror_mode": {
    "name": "ipython",
    "version": 3
   },
   "file_extension": ".py",
   "mimetype": "text/x-python",
   "name": "python",
   "nbconvert_exporter": "python",
   "pygments_lexer": "ipython3",
   "version": "3.6.4"
  }
 },
 "nbformat": 4,
 "nbformat_minor": 2
}
