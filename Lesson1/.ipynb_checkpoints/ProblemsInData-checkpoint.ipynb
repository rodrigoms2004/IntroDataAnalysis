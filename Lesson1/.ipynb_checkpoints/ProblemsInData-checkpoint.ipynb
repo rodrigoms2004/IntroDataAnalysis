{
 "cells": [
  {
   "cell_type": "code",
   "execution_count": 9,
   "metadata": {},
   "outputs": [
    {
     "name": "stdout",
     "output_type": "stream",
     "text": [
      "1302\n",
      "1640\n",
      "1237\n",
      "136240\n",
      "743\n",
      "3642\n"
     ]
    }
   ],
   "source": [
    "import unicodecsv\n",
    "\n",
    "def read_csv(filename):\n",
    "    with open(filename, 'rb') as f:\n",
    "        reader = unicodecsv.DictReader(f)\n",
    "        return list(reader)\n",
    "\n",
    "# enrollments = read_csv('/datasets/ud170/udacity-students/enrollments.csv')\n",
    "# daily_engagement = read_csv('/datasets/ud170/udacity-students/daily_engagement.csv')\n",
    "# project_submissions = read_csv('/datasets/ud170/udacity-students/project_submissions.csv')\n",
    "\n",
    "enrollments = read_csv('./DataFiles/enrollments.csv')\n",
    "daily_engagement = read_csv('./DataFiles/daily_engagement.csv')\n",
    "project_submissions = read_csv('./DataFiles/project_submissions.csv')\n",
    "        \n",
    "### For each of these three tables, find the number of rows in the table and\n",
    "### the number of unique students in the table. To find the number of unique\n",
    "### students, you might want to create a set of the account keys in each table.\n",
    "\n",
    "enrollment_num_rows = len(enrollments)             # Replace this with your code\n",
    "enrollment_num_unique_students = set()\n",
    "for enrollment in enrollments:\n",
    "    enrollment_num_unique_students.add(enrollment['account_key'])\n",
    "print('Number of enrollments:', enrollment_num_rows)\n",
    "print('Number of students in enrollments:', len(enrollment_num_unique_students))\n",
    "\n",
    "engagement_num_rows = len(daily_engagement)             # Replace this with your code\n",
    "engagement_num_unique_students = set()\n",
    "for engagement in daily_engagement:\n",
    "    engagement_num_unique_students.add(engagement['acct'])\n",
    "print('Number of daily engagements:', engagement_num_rows)\n",
    "print('Number of students in engagement:', len(engagement_num_unique_students))\n",
    "\n",
    "submission_num_rows = len(project_submissions)             # Replace this with your code\n",
    "submission_num_unique_students = set()\n",
    "for submission in project_submissions:\n",
    "    submission_num_unique_students.add(submission['account_key'])\n",
    "print('Number of submissions:', submission_num_rows)\n",
    "print('Number of students in submissions', len(submission_num_unique_students))\n",
    "\n",
    "\n",
    "\n",
    "\n",
    "\n"
   ]
  },
  {
   "cell_type": "code",
   "execution_count": null,
   "metadata": {},
   "outputs": [],
   "source": []
  }
 ],
 "metadata": {
  "kernelspec": {
   "display_name": "Python 3",
   "language": "python",
   "name": "python3"
  },
  "language_info": {
   "codemirror_mode": {
    "name": "ipython",
    "version": 3
   },
   "file_extension": ".py",
   "mimetype": "text/x-python",
   "name": "python",
   "nbconvert_exporter": "python",
   "pygments_lexer": "ipython3",
   "version": "3.6.4"
  }
 },
 "nbformat": 4,
 "nbformat_minor": 2
}
